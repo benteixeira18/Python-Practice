{
 "cells": [
  {
   "cell_type": "code",
   "execution_count": 123,
   "id": "621defec-46a1-4ad4-a992-b544eb9ee524",
   "metadata": {},
   "outputs": [],
   "source": [
    "# installing textbob\n",
    "# pip install textblob"
   ]
  },
  {
   "cell_type": "code",
   "execution_count": 149,
   "id": "a46ec257-1e9b-43c6-9c44-74feaec1e097",
   "metadata": {},
   "outputs": [],
   "source": [
    "# importing libraries\n",
    "from textblob import TextBlob\n",
    "import pandas as pd"
   ]
  },
  {
   "cell_type": "code",
   "execution_count": 137,
   "id": "30df3ef6-13b8-421b-a299-4036342bb652",
   "metadata": {},
   "outputs": [
    {
     "data": {
      "text/html": [
       "<div>\n",
       "<style scoped>\n",
       "    .dataframe tbody tr th:only-of-type {\n",
       "        vertical-align: middle;\n",
       "    }\n",
       "\n",
       "    .dataframe tbody tr th {\n",
       "        vertical-align: top;\n",
       "    }\n",
       "\n",
       "    .dataframe thead th {\n",
       "        text-align: right;\n",
       "    }\n",
       "</style>\n",
       "<table border=\"1\" class=\"dataframe\">\n",
       "  <thead>\n",
       "    <tr style=\"text-align: right;\">\n",
       "      <th></th>\n",
       "      <th>2401</th>\n",
       "      <th>Borderlands</th>\n",
       "      <th>Positive</th>\n",
       "      <th>im getting on borderlands and i will murder you all ,</th>\n",
       "    </tr>\n",
       "  </thead>\n",
       "  <tbody>\n",
       "    <tr>\n",
       "      <th>0</th>\n",
       "      <td>2401</td>\n",
       "      <td>Borderlands</td>\n",
       "      <td>Positive</td>\n",
       "      <td>I am coming to the borders and I will kill you...</td>\n",
       "    </tr>\n",
       "    <tr>\n",
       "      <th>1</th>\n",
       "      <td>2401</td>\n",
       "      <td>Borderlands</td>\n",
       "      <td>Positive</td>\n",
       "      <td>im getting on borderlands and i will kill you ...</td>\n",
       "    </tr>\n",
       "    <tr>\n",
       "      <th>2</th>\n",
       "      <td>2401</td>\n",
       "      <td>Borderlands</td>\n",
       "      <td>Positive</td>\n",
       "      <td>im coming on borderlands and i will murder you...</td>\n",
       "    </tr>\n",
       "    <tr>\n",
       "      <th>3</th>\n",
       "      <td>2401</td>\n",
       "      <td>Borderlands</td>\n",
       "      <td>Positive</td>\n",
       "      <td>im getting on borderlands 2 and i will murder ...</td>\n",
       "    </tr>\n",
       "    <tr>\n",
       "      <th>4</th>\n",
       "      <td>2401</td>\n",
       "      <td>Borderlands</td>\n",
       "      <td>Positive</td>\n",
       "      <td>im getting into borderlands and i can murder y...</td>\n",
       "    </tr>\n",
       "  </tbody>\n",
       "</table>\n",
       "</div>"
      ],
      "text/plain": [
       "   2401  Borderlands  Positive  \\\n",
       "0  2401  Borderlands  Positive   \n",
       "1  2401  Borderlands  Positive   \n",
       "2  2401  Borderlands  Positive   \n",
       "3  2401  Borderlands  Positive   \n",
       "4  2401  Borderlands  Positive   \n",
       "\n",
       "  im getting on borderlands and i will murder you all ,  \n",
       "0  I am coming to the borders and I will kill you...     \n",
       "1  im getting on borderlands and i will kill you ...     \n",
       "2  im coming on borderlands and i will murder you...     \n",
       "3  im getting on borderlands 2 and i will murder ...     \n",
       "4  im getting into borderlands and i can murder y...     "
      ]
     },
     "execution_count": 137,
     "metadata": {},
     "output_type": "execute_result"
    }
   ],
   "source": [
    "# reading file\n",
    "borderlands = pd.read_csv('twitter_training.csv')\n",
    "borderlands.head()    "
   ]
  },
  {
   "cell_type": "code",
   "execution_count": 138,
   "id": "3e7b685c-7a2e-4bc6-a560-165b58c4a6b4",
   "metadata": {},
   "outputs": [
    {
     "data": {
      "text/html": [
       "<div>\n",
       "<style scoped>\n",
       "    .dataframe tbody tr th:only-of-type {\n",
       "        vertical-align: middle;\n",
       "    }\n",
       "\n",
       "    .dataframe tbody tr th {\n",
       "        vertical-align: top;\n",
       "    }\n",
       "\n",
       "    .dataframe thead th {\n",
       "        text-align: right;\n",
       "    }\n",
       "</style>\n",
       "<table border=\"1\" class=\"dataframe\">\n",
       "  <thead>\n",
       "    <tr style=\"text-align: right;\">\n",
       "      <th></th>\n",
       "      <th>im getting on borderlands and i will murder you all ,</th>\n",
       "    </tr>\n",
       "  </thead>\n",
       "  <tbody>\n",
       "    <tr>\n",
       "      <th>0</th>\n",
       "      <td>I am coming to the borders and I will kill you...</td>\n",
       "    </tr>\n",
       "    <tr>\n",
       "      <th>1</th>\n",
       "      <td>im getting on borderlands and i will kill you ...</td>\n",
       "    </tr>\n",
       "    <tr>\n",
       "      <th>2</th>\n",
       "      <td>im coming on borderlands and i will murder you...</td>\n",
       "    </tr>\n",
       "    <tr>\n",
       "      <th>3</th>\n",
       "      <td>im getting on borderlands 2 and i will murder ...</td>\n",
       "    </tr>\n",
       "    <tr>\n",
       "      <th>4</th>\n",
       "      <td>im getting into borderlands and i can murder y...</td>\n",
       "    </tr>\n",
       "  </tbody>\n",
       "</table>\n",
       "</div>"
      ],
      "text/plain": [
       "  im getting on borderlands and i will murder you all ,\n",
       "0  I am coming to the borders and I will kill you...   \n",
       "1  im getting on borderlands and i will kill you ...   \n",
       "2  im coming on borderlands and i will murder you...   \n",
       "3  im getting on borderlands 2 and i will murder ...   \n",
       "4  im getting into borderlands and i can murder y...   "
      ]
     },
     "execution_count": 138,
     "metadata": {},
     "output_type": "execute_result"
    }
   ],
   "source": [
    "# dropping unneccesary columns\n",
    "borderlands = borderlands.drop('2401',axis=1)\n",
    "borderlands = borderlands.drop('Borderlands',axis=1)\n",
    "borderlands = borderlands.drop('Positive',axis=1)\n",
    "borderlands.head()"
   ]
  },
  {
   "cell_type": "code",
   "execution_count": 139,
   "id": "c5e20b3d-2dac-4035-9b80-ce418a8a89c3",
   "metadata": {},
   "outputs": [
    {
     "data": {
      "text/html": [
       "<div>\n",
       "<style scoped>\n",
       "    .dataframe tbody tr th:only-of-type {\n",
       "        vertical-align: middle;\n",
       "    }\n",
       "\n",
       "    .dataframe tbody tr th {\n",
       "        vertical-align: top;\n",
       "    }\n",
       "\n",
       "    .dataframe thead th {\n",
       "        text-align: right;\n",
       "    }\n",
       "</style>\n",
       "<table border=\"1\" class=\"dataframe\">\n",
       "  <thead>\n",
       "    <tr style=\"text-align: right;\">\n",
       "      <th></th>\n",
       "      <th>sentiment</th>\n",
       "    </tr>\n",
       "  </thead>\n",
       "  <tbody>\n",
       "    <tr>\n",
       "      <th>0</th>\n",
       "      <td>I am coming to the borders and I will kill you...</td>\n",
       "    </tr>\n",
       "    <tr>\n",
       "      <th>1</th>\n",
       "      <td>im getting on borderlands and i will kill you ...</td>\n",
       "    </tr>\n",
       "    <tr>\n",
       "      <th>2</th>\n",
       "      <td>im coming on borderlands and i will murder you...</td>\n",
       "    </tr>\n",
       "    <tr>\n",
       "      <th>3</th>\n",
       "      <td>im getting on borderlands 2 and i will murder ...</td>\n",
       "    </tr>\n",
       "    <tr>\n",
       "      <th>4</th>\n",
       "      <td>im getting into borderlands and i can murder y...</td>\n",
       "    </tr>\n",
       "  </tbody>\n",
       "</table>\n",
       "</div>"
      ],
      "text/plain": [
       "                                           sentiment\n",
       "0  I am coming to the borders and I will kill you...\n",
       "1  im getting on borderlands and i will kill you ...\n",
       "2  im coming on borderlands and i will murder you...\n",
       "3  im getting on borderlands 2 and i will murder ...\n",
       "4  im getting into borderlands and i can murder y..."
      ]
     },
     "execution_count": 139,
     "metadata": {},
     "output_type": "execute_result"
    }
   ],
   "source": [
    "# adding column name to sentiment column\n",
    "borderlands.columns = ['sentiment']\n",
    "borderlands.head()"
   ]
  },
  {
   "cell_type": "code",
   "execution_count": 140,
   "id": "bd176115-c9a0-4f7a-abd7-2400c93ac216",
   "metadata": {},
   "outputs": [],
   "source": [
    "# splitting entries into lists of strings\n",
    "borderlands['sentiment'] = borderlands['sentiment'].str.split()"
   ]
  },
  {
   "cell_type": "code",
   "execution_count": 145,
   "id": "e52825a4-8578-476b-925a-3220150280aa",
   "metadata": {},
   "outputs": [],
   "source": [
    "# converting lists of strings into words for each word in borderlands, but only if they're a list\n",
    "borderlands['sentiment'] = borderlands['sentiment'].apply(lambda x: ' '.join(str(word)for word in x) if isinstance(x, list) else '')"
   ]
  },
  {
   "cell_type": "code",
   "execution_count": 146,
   "id": "2bf2ea54-db13-4454-a640-f6ef06dae845",
   "metadata": {},
   "outputs": [
    {
     "data": {
      "text/plain": [
       "0        I am coming to the borders and I will kill you...\n",
       "1        im getting on borderlands and i will kill you ...\n",
       "2        im coming on borderlands and i will murder you...\n",
       "3        im getting on borderlands 2 and i will murder ...\n",
       "4        im getting into borderlands and i can murder y...\n",
       "                               ...                        \n",
       "74676    Just realized that the Windows partition of my...\n",
       "74677    Just realized that my Mac window partition is ...\n",
       "74678    Just realized the windows partition of my Mac ...\n",
       "74679    Just realized between the windows partition of...\n",
       "74680    Just like the windows partition of my Mac is l...\n",
       "Name: sentiment, Length: 74681, dtype: object"
      ]
     },
     "execution_count": 146,
     "metadata": {},
     "output_type": "execute_result"
    }
   ],
   "source": [
    "borderlands['sentiment']"
   ]
  },
  {
   "cell_type": "code",
   "execution_count": 162,
   "id": "8b2053e8-d949-4cf1-adb5-50b930a9e123",
   "metadata": {},
   "outputs": [
    {
     "data": {
      "text/plain": [
       "Sentiment(polarity=-0.8, subjectivity=0.9)"
      ]
     },
     "execution_count": 162,
     "metadata": {},
     "output_type": "execute_result"
    }
   ],
   "source": [
    "# testing TextBlob\n",
    "TextBlob(\"I absolutely hate this.\").sentiment"
   ]
  },
  {
   "cell_type": "code",
   "execution_count": 163,
   "id": "376e2cfc-7b12-434e-81be-f306a19fd8d2",
   "metadata": {},
   "outputs": [],
   "source": [
    "# creating sentiment analysis for polarity and subjectivity using TextBlob\n",
    "polarity = borderlands['sentiment'].apply(lambda x: TextBlob(str(x)).sentiment.polarity)\n",
    "subjectivity = borderlands['sentiment'].apply(lambda x: TextBlob(str(x)).sentiment.subjectivity)"
   ]
  },
  {
   "cell_type": "code",
   "execution_count": 171,
   "id": "dfc09a4a-41fe-4934-b649-c5f3d0a384c0",
   "metadata": {},
   "outputs": [],
   "source": [
    "polarity_score = round(sum(polarity)/len(polarity),2)*100\n",
    "subjectivity_score = round(sum(subjectivity)/len(subjectivity),2)*100"
   ]
  },
  {
   "cell_type": "code",
   "execution_count": 174,
   "id": "bbfcb2d3-c244-40e5-be5c-6ccba8083699",
   "metadata": {},
   "outputs": [
    {
     "name": "stdout",
     "output_type": "stream",
     "text": [
      "Polarity: 8.0  Subjectivity: 44.0\n"
     ]
    }
   ],
   "source": [
    "print('Polarity:',polarity_score,' Subjectivity:',subjectivity_score)"
   ]
  },
  {
   "cell_type": "code",
   "execution_count": 176,
   "id": "ac8d8d12-cae7-4836-ae03-097d82af2feb",
   "metadata": {},
   "outputs": [],
   "source": [
    "#general sentiment\n",
    "sentiment_general = borderlands['sentiment'].apply(lambda x: TextBlob(str(x)).sentiment)"
   ]
  },
  {
   "cell_type": "code",
   "execution_count": 179,
   "id": "c3cc05ab-56a2-48a0-9f8a-9c9bc1baef3d",
   "metadata": {},
   "outputs": [
    {
     "name": "stdout",
     "output_type": "stream",
     "text": [
      "Sentiment Score: 0                          (0.0, 0.0)\n",
      "1                          (0.0, 0.0)\n",
      "2                          (0.0, 0.0)\n",
      "3                          (0.0, 0.0)\n",
      "4                          (0.0, 0.0)\n",
      "                     ...             \n",
      "74676                     (-0.4, 0.7)\n",
      "74677                     (-0.4, 0.7)\n",
      "74678                     (-0.4, 0.7)\n",
      "74679    (-0.05000000000000002, 0.75)\n",
      "74680                     (-0.4, 0.7)\n",
      "Name: sentiment, Length: 74681, dtype: object\n"
     ]
    }
   ],
   "source": [
    "print('Sentiment Score:',sentiment_general)"
   ]
  },
  {
   "cell_type": "code",
   "execution_count": null,
   "id": "87b35c34-b438-4ac1-bd5a-b13ec2fe2cf9",
   "metadata": {},
   "outputs": [],
   "source": []
  }
 ],
 "metadata": {
  "kernelspec": {
   "display_name": "Python 3 (ipykernel)",
   "language": "python",
   "name": "python3"
  },
  "language_info": {
   "codemirror_mode": {
    "name": "ipython",
    "version": 3
   },
   "file_extension": ".py",
   "mimetype": "text/x-python",
   "name": "python",
   "nbconvert_exporter": "python",
   "pygments_lexer": "ipython3",
   "version": "3.10.16"
  }
 },
 "nbformat": 4,
 "nbformat_minor": 5
}
